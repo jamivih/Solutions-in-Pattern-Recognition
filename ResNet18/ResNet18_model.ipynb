{
 "cells": [
  {
   "cell_type": "markdown",
   "metadata": {},
   "source": [
    "## 1. Importing Libraries\n",
    "\n",
    "Before we begin working on our transfer learning task, we need to import several key libraries:\n",
    "\n",
    "- **PyTorch (`torch`)**: The core deep learning library used to build and train models.\n",
    "- **`torch.nn`**: A module that provides neural network layers and operations, which will be used to define and modify our model.\n",
    "- **`torch.optim`**: A module that provides optimization algorithms, such as SGD and Adam, for training the model.\n",
    "- **`torchvision.models`**: A collection of pre-trained models, including AlexNet, which we will be using for transfer learning.\n",
    "- **`torchvision.transforms`**: A set of common transformations, such as resizing and converting images to tensors, to preprocess our image dataset.\n",
    "- **`torchvision.datasets.ImageFolder`**: A utility to load and structure image datasets stored in folders.\n",
    "- **`torch.utils.data.DataLoader`**: A utility to load data in batches and shuffle it for training.\n",
    "- **`wandb`**: Weights & Biases, a tool for tracking and visualizing machine learning experiments.\n",
    "\n",
    "In this block, we’re setting up all the necessary imports to get started with loading a pre-trained model and preparing our dataset.\n"
   ]
  },
  {
   "cell_type": "code",
   "execution_count": 19,
   "metadata": {},
   "outputs": [],
   "source": [
    "import torch\n",
    "import torch.nn as nn\n",
    "import torch.optim as optim\n",
    "from torchvision import models, transforms\n",
    "from torchvision.transforms import Compose, Resize, ToTensor\n",
    "from torchvision.datasets import ImageFolder\n",
    "from torch.utils.data import DataLoader\n",
    "from torchsummary import summary\n",
    "from PIL import Image\n",
    "from sklearn.metrics import confusion_matrix, ConfusionMatrixDisplay\n",
    "import matplotlib.pyplot as plt\n",
    "import torch\n",
    "from sklearn.metrics import accuracy_score, precision_score, recall_score, f1_score\n",
    "import seaborn as sns\n",
    "from PIL import Image\n",
    "import wandb\n",
    "import gradio as gr"
   ]
  },
  {
   "cell_type": "markdown",
   "metadata": {},
   "source": [
    "## 2. Initializing Weights & Biases (W&B) for Experiment Tracking\n",
    "\n",
    "In this block, we initialize **Weights & Biases (W&B)** to track and log our experiment. W&B is a popular tool used in machine learning for tracking model performance, visualizing training progress, and organizing results.\n",
    "\n",
    "- **`wandb.init()`**: This initializes the W&B project and sets the configuration for the experiment.\n",
    "    - **`project`**: The name of the project on W&B. In this case, it’s called `\"resnet18-transfer-learning-hamk\"`, indicating that we will be using the ResNet18 model for transfer learning.\n",
    "    - **`config`**: A dictionary that defines key parameters of our experiment:\n",
    "        - **`epochs`**: The number of training epochs (in this case, 10).\n",
    "        - **`batch_size`**: The size of each batch during training (set to 16).\n",
    "        - **`learning_rate`**: The initial learning rate for the optimizer (set to 0.001).\n",
    "        - **`architecture`**: The pre-trained model architecture we will use (ResNet18).\n",
    "        - **`dataset`**: The name of the dataset (Rock Paper Scissors, abbreviated as \"RPS\").\n",
    "\n",
    "By using W&B, we can easily monitor our model’s performance, visualize metrics such as loss and accuracy, and compare different runs.\n"
   ]
  },
  {
   "cell_type": "code",
   "execution_count": 74,
   "metadata": {},
   "outputs": [
    {
     "data": {
      "text/html": [
       "Finishing last run (ID:6c7a1xyx) before initializing another..."
      ],
      "text/plain": [
       "<IPython.core.display.HTML object>"
      ]
     },
     "metadata": {},
     "output_type": "display_data"
    },
    {
     "data": {
      "text/html": [
       "<style>\n",
       "    table.wandb td:nth-child(1) { padding: 0 10px; text-align: left ; width: auto;} td:nth-child(2) {text-align: left ; width: 100%}\n",
       "    .wandb-row { display: flex; flex-direction: row; flex-wrap: wrap; justify-content: flex-start; width: 100% }\n",
       "    .wandb-col { display: flex; flex-direction: column; flex-basis: 100%; flex: 1; padding: 10px; }\n",
       "    </style>\n",
       "<div class=\"wandb-row\"><div class=\"wandb-col\"><h3>Run history:</h3><br/><table class=\"wandb\"><tr><td>Train Accuracy</td><td>▆▇▃▃▁▄▆▂▁█</td></tr><tr><td>Train Loss</td><td>▂▃▅▄▅▃▂█▇▁</td></tr><tr><td>Validation Accuracy</td><td>▆█▄▂▂▃▅▁▇█</td></tr><tr><td>Validation Loss</td><td>▂▁██▅▇▅█▂▁</td></tr></table><br/></div><div class=\"wandb-col\"><h3>Run summary:</h3><br/><table class=\"wandb\"><tr><td>Train Accuracy</td><td>99.64286</td></tr><tr><td>Train Loss</td><td>0.01718</td></tr><tr><td>Validation Accuracy</td><td>100</td></tr><tr><td>Validation Loss</td><td>0.02311</td></tr></table><br/></div></div>"
      ],
      "text/plain": [
       "<IPython.core.display.HTML object>"
      ]
     },
     "metadata": {},
     "output_type": "display_data"
    },
    {
     "data": {
      "text/html": [
       " View run <strong style=\"color:#cdcd00\">golden-sun-13</strong> at: <a href='https://wandb.ai/jvhamk-h-me-university-of-applied-sciences/resnet18-transfer-learning-hamk/runs/6c7a1xyx' target=\"_blank\">https://wandb.ai/jvhamk-h-me-university-of-applied-sciences/resnet18-transfer-learning-hamk/runs/6c7a1xyx</a><br/> View project at: <a href='https://wandb.ai/jvhamk-h-me-university-of-applied-sciences/resnet18-transfer-learning-hamk' target=\"_blank\">https://wandb.ai/jvhamk-h-me-university-of-applied-sciences/resnet18-transfer-learning-hamk</a><br/>Synced 5 W&B file(s), 0 media file(s), 0 artifact file(s) and 0 other file(s)"
      ],
      "text/plain": [
       "<IPython.core.display.HTML object>"
      ]
     },
     "metadata": {},
     "output_type": "display_data"
    },
    {
     "data": {
      "text/html": [
       "Find logs at: <code>.\\wandb\\run-20241021_183807-6c7a1xyx\\logs</code>"
      ],
      "text/plain": [
       "<IPython.core.display.HTML object>"
      ]
     },
     "metadata": {},
     "output_type": "display_data"
    },
    {
     "data": {
      "text/html": [
       "Successfully finished last run (ID:6c7a1xyx). Initializing new run:<br/>"
      ],
      "text/plain": [
       "<IPython.core.display.HTML object>"
      ]
     },
     "metadata": {},
     "output_type": "display_data"
    },
    {
     "data": {
      "text/html": [
       "Tracking run with wandb version 0.18.5"
      ],
      "text/plain": [
       "<IPython.core.display.HTML object>"
      ]
     },
     "metadata": {},
     "output_type": "display_data"
    },
    {
     "data": {
      "text/html": [
       "Run data is saved locally in <code>c:\\Users\\Jamiv\\Desktop\\HAMK\\2024-2025\\Solutions in Pattern Recognition\\Project_work_images\\wandb\\run-20241021_184415-41nhbdtc</code>"
      ],
      "text/plain": [
       "<IPython.core.display.HTML object>"
      ]
     },
     "metadata": {},
     "output_type": "display_data"
    },
    {
     "data": {
      "text/html": [
       "Syncing run <strong><a href='https://wandb.ai/jvhamk-h-me-university-of-applied-sciences/resnet18-transfer-learning-hamk/runs/41nhbdtc' target=\"_blank\">snowy-bush-14</a></strong> to <a href='https://wandb.ai/jvhamk-h-me-university-of-applied-sciences/resnet18-transfer-learning-hamk' target=\"_blank\">Weights & Biases</a> (<a href='https://wandb.me/run' target=\"_blank\">docs</a>)<br/>"
      ],
      "text/plain": [
       "<IPython.core.display.HTML object>"
      ]
     },
     "metadata": {},
     "output_type": "display_data"
    },
    {
     "data": {
      "text/html": [
       " View project at <a href='https://wandb.ai/jvhamk-h-me-university-of-applied-sciences/resnet18-transfer-learning-hamk' target=\"_blank\">https://wandb.ai/jvhamk-h-me-university-of-applied-sciences/resnet18-transfer-learning-hamk</a>"
      ],
      "text/plain": [
       "<IPython.core.display.HTML object>"
      ]
     },
     "metadata": {},
     "output_type": "display_data"
    },
    {
     "data": {
      "text/html": [
       " View run at <a href='https://wandb.ai/jvhamk-h-me-university-of-applied-sciences/resnet18-transfer-learning-hamk/runs/41nhbdtc' target=\"_blank\">https://wandb.ai/jvhamk-h-me-university-of-applied-sciences/resnet18-transfer-learning-hamk/runs/41nhbdtc</a>"
      ],
      "text/plain": [
       "<IPython.core.display.HTML object>"
      ]
     },
     "metadata": {},
     "output_type": "display_data"
    },
    {
     "data": {
      "text/html": [
       "<button onClick=\"this.nextSibling.style.display='block';this.style.display='none';\">Display W&B run</button><iframe src='https://wandb.ai/jvhamk-h-me-university-of-applied-sciences/resnet18-transfer-learning-hamk/runs/41nhbdtc?jupyter=true' style='border:none;width:100%;height:420px;display:none;'></iframe>"
      ],
      "text/plain": [
       "<wandb.sdk.wandb_run.Run at 0x1d89ae4a8d0>"
      ]
     },
     "execution_count": 74,
     "metadata": {},
     "output_type": "execute_result"
    }
   ],
   "source": [
    "# Initialize W&B and set up the project\n",
    "wandb.init(project=\"resnet18-transfer-learning-hamk\", config={\n",
    "    \"epochs\": 10,\n",
    "    \"batch_size\": 16,\n",
    "    \"learning_rate\": 0.001,\n",
    "    \"architecture\": \"ResNet18\",\n",
    "    \"dataset\": \"tree_detection\"\n",
    "})"
   ]
  },
  {
   "cell_type": "code",
   "execution_count": 49,
   "metadata": {},
   "outputs": [],
   "source": [
    "config = wandb.config"
   ]
  },
  {
   "cell_type": "code",
   "execution_count": 50,
   "metadata": {},
   "outputs": [],
   "source": [
    "# Device configuration\n",
    "device = torch.device('cuda' if torch.cuda.is_available() else 'cpu')"
   ]
  },
  {
   "cell_type": "markdown",
   "metadata": {},
   "source": [
    "## 3. Preparing the Dataset and Data Loaders\n",
    "\n",
    "In this block, we define the necessary transformations for our dataset, load the data, and create data loaders for training and validation.\n",
    "\n",
    "### Transformations\n",
    "- **`Compose()`**: We use `Compose` to apply a series of transformations to the images.\n",
    "    - **`Resize((28, 28))`**: This resizes the images to a fixed size of 28x28 pixels, which is suitable for the model input.\n",
    "    - **`ToTensor()`**: This converts the images into tensors, which are required by PyTorch for model training.\n",
    "\n",
    "### Loading the Dataset\n",
    "- **`ImageFolder()`**: This utility is used to load images stored in folder structures. Each folder corresponds to a class label, and the images are automatically labeled based on the folder names.\n",
    "    - **`train_data`**: The training dataset is loaded from the `\"rps\"` directory, which contains images for Rock Paper Scissors.\n",
    "    - **`val_data`**: The validation dataset is loaded from the `\"rps-test-set\"` directory.\n",
    "    - **`train_data.classes`**: This prints out the class labels (Rock, Paper, Scissors) from the dataset.\n",
    "\n",
    "### Data Loaders\n",
    "- **`DataLoader()`**: This utility loads data in batches and shuffles it for training or validation.\n",
    "    - **`train_loader`**: Loads the training dataset with a batch size of 16 and shuffles the data.\n",
    "    - **`val_loader`**: Loads the validation dataset with a batch size of 16 but without shuffling.\n",
    "\n",
    "The final lines of the block print the number of samples in both the training and validation sets. These data loaders will be used to feed data into the model during training.\n"
   ]
  },
  {
   "cell_type": "code",
   "execution_count": 51,
   "metadata": {},
   "outputs": [
    {
     "name": "stdout",
     "output_type": "stream",
     "text": [
      "Classes: ['birch', 'maple', 'pine', 'rowan', 'spruce']\n",
      "Number of training samples: 280\n",
      "Number of validation samples: 51\n"
     ]
    }
   ],
   "source": [
    "# Transformations (from your lab)\n",
    "transform = Compose([Resize((224, 224)), ToTensor()])\n",
    "\n",
    "# Load the dataset\n",
    "train_data = ImageFolder(root='train_data', transform=transform)\n",
    "val_data = ImageFolder(root='val_data', transform=transform)\n",
    "print('Classes:', train_data.classes)\n",
    "\n",
    "# Create data loaders\n",
    "train_loader = DataLoader(train_data, batch_size=16, shuffle=True)\n",
    "val_loader = DataLoader(val_data, batch_size=16, shuffle=False)\n",
    "print(f\"Number of training samples: {len(train_data)}\")\n",
    "print(f\"Number of validation samples: {len(val_data)}\")"
   ]
  },
  {
   "cell_type": "markdown",
   "metadata": {},
   "source": [
    "## 4. Loading a Pre-trained ResNet Model\n",
    "\n",
    "In this block, we load the pre-trained **ResNet18** model, which is a popular deep learning architecture known for its residual connections that help avoid the vanishing gradient problem in deep networks.\n",
    "\n",
    "- **`models.resnet18()`**: This function loads the **ResNet18** architecture from the **torchvision** library.\n",
    "    - **`weights=models.ResNet18_Weights.DEFAULT`**: This specifies that we are using the pre-trained weights provided by **torchvision**. These weights are trained on a large-scale dataset like ImageNet, allowing us to benefit from a model that has already learned useful features.\n",
    "- **`.to(device)`**: This moves the model to the specified device (usually a GPU or CPU). If a GPU is available, the model will run on it for faster computations.\n",
    "\n",
    "By using this pre-trained model, we leverage the knowledge it has already learned and adapt it to our specific task (transfer learning).\n"
   ]
  },
  {
   "cell_type": "code",
   "execution_count": 52,
   "metadata": {},
   "outputs": [],
   "source": [
    "# Load a pretrained ResNet model\n",
    "model = models.resnet18(weights=models.ResNet18_Weights.DEFAULT).to(device)"
   ]
  },
  {
   "cell_type": "code",
   "execution_count": 53,
   "metadata": {},
   "outputs": [
    {
     "name": "stdout",
     "output_type": "stream",
     "text": [
      "^C\n",
      "Note: you may need to restart the kernel to use updated packages.\n"
     ]
    },
    {
     "name": "stdout",
     "output_type": "stream",
     "text": [
      "Requirement already satisfied: torchsummary in c:\\users\\jamiv\\.conda\\envs\\solutionspr\\lib\\site-packages (1.5.1)\n"
     ]
    }
   ],
   "source": [
    "%pip install torchsummary"
   ]
  },
  {
   "cell_type": "markdown",
   "metadata": {},
   "source": [
    "## 5. Displaying the Model Summary\n",
    "\n",
    "In this block, we use the **torchsummary** library to display a detailed summary of the **ResNet18** model architecture. This helps us understand the structure of the model and the number of parameters involved.\n",
    "\n",
    "- **`summary(model, input_size=(3, 224, 224))`**: This function provides a layer-by-layer summary of the model architecture.\n",
    "    - **Input size**: For ResNet18, the expected input size is a 3-channel image (RGB) with dimensions 224x224 pixels.\n",
    "\n",
    "### Model Summary\n",
    "- **Layer (type)**: Lists each layer in the model, such as convolutional layers, batch normalization, ReLU activations, and fully connected layers.\n",
    "- **Output Shape**: Displays the shape of the output after each layer.\n",
    "- **Param #**: Shows the number of parameters in each layer, including trainable parameters like weights and biases.\n",
    "\n",
    "The model has approximately **11.7 million parameters**, all of which are trainable. This is a relatively small number compared to deeper models like ResNet50, making ResNet18 a good choice for transfer learning tasks with limited computational resources.\n",
    "\n",
    "The summary provides the estimated memory usage for the input size, forward/backward passes, and the parameters, giving us a clear idea of the model's complexity and memory requirements.\n"
   ]
  },
  {
   "cell_type": "code",
   "execution_count": 54,
   "metadata": {},
   "outputs": [
    {
     "name": "stdout",
     "output_type": "stream",
     "text": [
      "----------------------------------------------------------------\n",
      "        Layer (type)               Output Shape         Param #\n",
      "================================================================\n",
      "            Conv2d-1         [-1, 64, 112, 112]           9,408\n",
      "       BatchNorm2d-2         [-1, 64, 112, 112]             128\n",
      "              ReLU-3         [-1, 64, 112, 112]               0\n",
      "         MaxPool2d-4           [-1, 64, 56, 56]               0\n",
      "            Conv2d-5           [-1, 64, 56, 56]          36,864\n",
      "       BatchNorm2d-6           [-1, 64, 56, 56]             128\n",
      "              ReLU-7           [-1, 64, 56, 56]               0\n",
      "            Conv2d-8           [-1, 64, 56, 56]          36,864\n",
      "       BatchNorm2d-9           [-1, 64, 56, 56]             128\n",
      "             ReLU-10           [-1, 64, 56, 56]               0\n",
      "       BasicBlock-11           [-1, 64, 56, 56]               0\n",
      "           Conv2d-12           [-1, 64, 56, 56]          36,864\n",
      "      BatchNorm2d-13           [-1, 64, 56, 56]             128\n",
      "             ReLU-14           [-1, 64, 56, 56]               0\n",
      "           Conv2d-15           [-1, 64, 56, 56]          36,864\n",
      "      BatchNorm2d-16           [-1, 64, 56, 56]             128\n",
      "             ReLU-17           [-1, 64, 56, 56]               0\n",
      "       BasicBlock-18           [-1, 64, 56, 56]               0\n",
      "           Conv2d-19          [-1, 128, 28, 28]          73,728\n",
      "      BatchNorm2d-20          [-1, 128, 28, 28]             256\n",
      "             ReLU-21          [-1, 128, 28, 28]               0\n",
      "           Conv2d-22          [-1, 128, 28, 28]         147,456\n",
      "      BatchNorm2d-23          [-1, 128, 28, 28]             256\n",
      "           Conv2d-24          [-1, 128, 28, 28]           8,192\n",
      "      BatchNorm2d-25          [-1, 128, 28, 28]             256\n",
      "             ReLU-26          [-1, 128, 28, 28]               0\n",
      "       BasicBlock-27          [-1, 128, 28, 28]               0\n",
      "           Conv2d-28          [-1, 128, 28, 28]         147,456\n",
      "      BatchNorm2d-29          [-1, 128, 28, 28]             256\n",
      "             ReLU-30          [-1, 128, 28, 28]               0\n",
      "           Conv2d-31          [-1, 128, 28, 28]         147,456\n",
      "      BatchNorm2d-32          [-1, 128, 28, 28]             256\n",
      "             ReLU-33          [-1, 128, 28, 28]               0\n",
      "       BasicBlock-34          [-1, 128, 28, 28]               0\n",
      "           Conv2d-35          [-1, 256, 14, 14]         294,912\n",
      "      BatchNorm2d-36          [-1, 256, 14, 14]             512\n",
      "             ReLU-37          [-1, 256, 14, 14]               0\n",
      "           Conv2d-38          [-1, 256, 14, 14]         589,824\n",
      "      BatchNorm2d-39          [-1, 256, 14, 14]             512\n",
      "           Conv2d-40          [-1, 256, 14, 14]          32,768\n",
      "      BatchNorm2d-41          [-1, 256, 14, 14]             512\n",
      "             ReLU-42          [-1, 256, 14, 14]               0\n",
      "       BasicBlock-43          [-1, 256, 14, 14]               0\n",
      "           Conv2d-44          [-1, 256, 14, 14]         589,824\n",
      "      BatchNorm2d-45          [-1, 256, 14, 14]             512\n",
      "             ReLU-46          [-1, 256, 14, 14]               0\n",
      "           Conv2d-47          [-1, 256, 14, 14]         589,824\n",
      "      BatchNorm2d-48          [-1, 256, 14, 14]             512\n",
      "             ReLU-49          [-1, 256, 14, 14]               0\n",
      "       BasicBlock-50          [-1, 256, 14, 14]               0\n",
      "           Conv2d-51            [-1, 512, 7, 7]       1,179,648\n",
      "      BatchNorm2d-52            [-1, 512, 7, 7]           1,024\n",
      "             ReLU-53            [-1, 512, 7, 7]               0\n",
      "           Conv2d-54            [-1, 512, 7, 7]       2,359,296\n",
      "      BatchNorm2d-55            [-1, 512, 7, 7]           1,024\n",
      "           Conv2d-56            [-1, 512, 7, 7]         131,072\n",
      "      BatchNorm2d-57            [-1, 512, 7, 7]           1,024\n",
      "             ReLU-58            [-1, 512, 7, 7]               0\n",
      "       BasicBlock-59            [-1, 512, 7, 7]               0\n",
      "           Conv2d-60            [-1, 512, 7, 7]       2,359,296\n",
      "      BatchNorm2d-61            [-1, 512, 7, 7]           1,024\n",
      "             ReLU-62            [-1, 512, 7, 7]               0\n",
      "           Conv2d-63            [-1, 512, 7, 7]       2,359,296\n",
      "      BatchNorm2d-64            [-1, 512, 7, 7]           1,024\n",
      "             ReLU-65            [-1, 512, 7, 7]               0\n",
      "       BasicBlock-66            [-1, 512, 7, 7]               0\n",
      "AdaptiveAvgPool2d-67            [-1, 512, 1, 1]               0\n",
      "           Linear-68                 [-1, 1000]         513,000\n",
      "================================================================\n",
      "Total params: 11,689,512\n",
      "Trainable params: 11,689,512\n",
      "Non-trainable params: 0\n",
      "----------------------------------------------------------------\n",
      "Input size (MB): 0.57\n",
      "Forward/backward pass size (MB): 62.79\n",
      "Params size (MB): 44.59\n",
      "Estimated Total Size (MB): 107.96\n",
      "----------------------------------------------------------------\n"
     ]
    }
   ],
   "source": [
    "# Display model summary (for an input size of (3, 224, 224) for ResNet)\n",
    "summary(model, input_size=(3, 224, 224))"
   ]
  },
  {
   "cell_type": "code",
   "execution_count": 55,
   "metadata": {},
   "outputs": [
    {
     "name": "stdout",
     "output_type": "stream",
     "text": [
      "ResNet(\n",
      "  (conv1): Conv2d(3, 64, kernel_size=(7, 7), stride=(2, 2), padding=(3, 3), bias=False)\n",
      "  (bn1): BatchNorm2d(64, eps=1e-05, momentum=0.1, affine=True, track_running_stats=True)\n",
      "  (relu): ReLU(inplace=True)\n",
      "  (maxpool): MaxPool2d(kernel_size=3, stride=2, padding=1, dilation=1, ceil_mode=False)\n",
      "  (layer1): Sequential(\n",
      "    (0): BasicBlock(\n",
      "      (conv1): Conv2d(64, 64, kernel_size=(3, 3), stride=(1, 1), padding=(1, 1), bias=False)\n",
      "      (bn1): BatchNorm2d(64, eps=1e-05, momentum=0.1, affine=True, track_running_stats=True)\n",
      "      (relu): ReLU(inplace=True)\n",
      "      (conv2): Conv2d(64, 64, kernel_size=(3, 3), stride=(1, 1), padding=(1, 1), bias=False)\n",
      "      (bn2): BatchNorm2d(64, eps=1e-05, momentum=0.1, affine=True, track_running_stats=True)\n",
      "    )\n",
      "    (1): BasicBlock(\n",
      "      (conv1): Conv2d(64, 64, kernel_size=(3, 3), stride=(1, 1), padding=(1, 1), bias=False)\n",
      "      (bn1): BatchNorm2d(64, eps=1e-05, momentum=0.1, affine=True, track_running_stats=True)\n",
      "      (relu): ReLU(inplace=True)\n",
      "      (conv2): Conv2d(64, 64, kernel_size=(3, 3), stride=(1, 1), padding=(1, 1), bias=False)\n",
      "      (bn2): BatchNorm2d(64, eps=1e-05, momentum=0.1, affine=True, track_running_stats=True)\n",
      "    )\n",
      "  )\n",
      "  (layer2): Sequential(\n",
      "    (0): BasicBlock(\n",
      "      (conv1): Conv2d(64, 128, kernel_size=(3, 3), stride=(2, 2), padding=(1, 1), bias=False)\n",
      "      (bn1): BatchNorm2d(128, eps=1e-05, momentum=0.1, affine=True, track_running_stats=True)\n",
      "      (relu): ReLU(inplace=True)\n",
      "      (conv2): Conv2d(128, 128, kernel_size=(3, 3), stride=(1, 1), padding=(1, 1), bias=False)\n",
      "      (bn2): BatchNorm2d(128, eps=1e-05, momentum=0.1, affine=True, track_running_stats=True)\n",
      "      (downsample): Sequential(\n",
      "        (0): Conv2d(64, 128, kernel_size=(1, 1), stride=(2, 2), bias=False)\n",
      "        (1): BatchNorm2d(128, eps=1e-05, momentum=0.1, affine=True, track_running_stats=True)\n",
      "      )\n",
      "    )\n",
      "    (1): BasicBlock(\n",
      "      (conv1): Conv2d(128, 128, kernel_size=(3, 3), stride=(1, 1), padding=(1, 1), bias=False)\n",
      "      (bn1): BatchNorm2d(128, eps=1e-05, momentum=0.1, affine=True, track_running_stats=True)\n",
      "      (relu): ReLU(inplace=True)\n",
      "      (conv2): Conv2d(128, 128, kernel_size=(3, 3), stride=(1, 1), padding=(1, 1), bias=False)\n",
      "      (bn2): BatchNorm2d(128, eps=1e-05, momentum=0.1, affine=True, track_running_stats=True)\n",
      "    )\n",
      "  )\n",
      "  (layer3): Sequential(\n",
      "    (0): BasicBlock(\n",
      "      (conv1): Conv2d(128, 256, kernel_size=(3, 3), stride=(2, 2), padding=(1, 1), bias=False)\n",
      "      (bn1): BatchNorm2d(256, eps=1e-05, momentum=0.1, affine=True, track_running_stats=True)\n",
      "      (relu): ReLU(inplace=True)\n",
      "      (conv2): Conv2d(256, 256, kernel_size=(3, 3), stride=(1, 1), padding=(1, 1), bias=False)\n",
      "      (bn2): BatchNorm2d(256, eps=1e-05, momentum=0.1, affine=True, track_running_stats=True)\n",
      "      (downsample): Sequential(\n",
      "        (0): Conv2d(128, 256, kernel_size=(1, 1), stride=(2, 2), bias=False)\n",
      "        (1): BatchNorm2d(256, eps=1e-05, momentum=0.1, affine=True, track_running_stats=True)\n",
      "      )\n",
      "    )\n",
      "    (1): BasicBlock(\n",
      "      (conv1): Conv2d(256, 256, kernel_size=(3, 3), stride=(1, 1), padding=(1, 1), bias=False)\n",
      "      (bn1): BatchNorm2d(256, eps=1e-05, momentum=0.1, affine=True, track_running_stats=True)\n",
      "      (relu): ReLU(inplace=True)\n",
      "      (conv2): Conv2d(256, 256, kernel_size=(3, 3), stride=(1, 1), padding=(1, 1), bias=False)\n",
      "      (bn2): BatchNorm2d(256, eps=1e-05, momentum=0.1, affine=True, track_running_stats=True)\n",
      "    )\n",
      "  )\n",
      "  (layer4): Sequential(\n",
      "    (0): BasicBlock(\n",
      "      (conv1): Conv2d(256, 512, kernel_size=(3, 3), stride=(2, 2), padding=(1, 1), bias=False)\n",
      "      (bn1): BatchNorm2d(512, eps=1e-05, momentum=0.1, affine=True, track_running_stats=True)\n",
      "      (relu): ReLU(inplace=True)\n",
      "      (conv2): Conv2d(512, 512, kernel_size=(3, 3), stride=(1, 1), padding=(1, 1), bias=False)\n",
      "      (bn2): BatchNorm2d(512, eps=1e-05, momentum=0.1, affine=True, track_running_stats=True)\n",
      "      (downsample): Sequential(\n",
      "        (0): Conv2d(256, 512, kernel_size=(1, 1), stride=(2, 2), bias=False)\n",
      "        (1): BatchNorm2d(512, eps=1e-05, momentum=0.1, affine=True, track_running_stats=True)\n",
      "      )\n",
      "    )\n",
      "    (1): BasicBlock(\n",
      "      (conv1): Conv2d(512, 512, kernel_size=(3, 3), stride=(1, 1), padding=(1, 1), bias=False)\n",
      "      (bn1): BatchNorm2d(512, eps=1e-05, momentum=0.1, affine=True, track_running_stats=True)\n",
      "      (relu): ReLU(inplace=True)\n",
      "      (conv2): Conv2d(512, 512, kernel_size=(3, 3), stride=(1, 1), padding=(1, 1), bias=False)\n",
      "      (bn2): BatchNorm2d(512, eps=1e-05, momentum=0.1, affine=True, track_running_stats=True)\n",
      "    )\n",
      "  )\n",
      "  (avgpool): AdaptiveAvgPool2d(output_size=(1, 1))\n",
      "  (fc): Linear(in_features=512, out_features=1000, bias=True)\n",
      ")\n"
     ]
    }
   ],
   "source": [
    "# Print model architecture\n",
    "print(model)"
   ]
  },
  {
   "cell_type": "markdown",
   "metadata": {},
   "source": [
    "## 6. Modifying the Final Fully Connected Layer for Transfer Learning\n",
    "\n",
    "In transfer learning, we often modify the final layer of a pre-trained model to adapt it to our specific task. In this case, we are fine-tuning the **ResNet18** model for the **Rock-Paper-Scissors** dataset, which has 3 output classes.\n",
    "\n",
    "- **`model.fc = nn.Linear(512, 3)`**: \n",
    "    - The final fully connected (FC) layer of ResNet18 is originally designed for 1000 classes (as it was trained on ImageNet).\n",
    "    - We replace the FC layer with a new `Linear` layer that has 512 input features (from the last layer of ResNet18) and 3 output features (corresponding to the 3 classes: Rock, Paper, and Scissors).\n",
    "    - **`.to(device)`**: Moves the modified layer to the device (GPU or CPU).\n",
    "\n",
    "By modifying this layer, we retain all the features learned by the pre-trained model and fine-tune the final layer to classify images into the 3 target categories.\n",
    "\n",
    "- The following image is of AlexNet but the idea of Modifying the final layer is same"
   ]
  },
  {
   "cell_type": "markdown",
   "metadata": {},
   "source": [
    "![](https://github.com/dvgodoy/PyTorchStepByStep/blob/master/images/alexnet.png?raw=1)\n",
    "\n",
    "*Source: Generated using Alexander Lenail’s [NN-SVG](http://alexlenail.me/NN-SVG/) and adapted by the author*"
   ]
  },
  {
   "cell_type": "code",
   "execution_count": 56,
   "metadata": {},
   "outputs": [],
   "source": [
    "# Modify the final fully connected layer for transfer learning (assuming 3 classes for the Rock-Paper-Scissors dataset)\n",
    "model.fc = nn.Linear(512, 5).to(device)"
   ]
  },
  {
   "cell_type": "code",
   "execution_count": 57,
   "metadata": {},
   "outputs": [],
   "source": [
    "# Loss function and optimizer\n",
    "criterion = nn.CrossEntropyLoss()\n",
    "optimizer = optim.Adam(model.parameters(), lr=0.001)"
   ]
  },
  {
   "cell_type": "markdown",
   "metadata": {},
   "source": [
    "## 7. Defining the Training and Validation Loops\n",
    "\n",
    "In this section, we define two key functions: one for training the model and one for validating its performance. These loops are fundamental to the transfer learning process, where the pre-trained model is fine-tuned on our specific dataset.\n",
    "\n",
    "### Training Loop\n",
    "\n",
    "The **`train()`** function handles the training process for one epoch, performing the following steps:\n",
    "\n",
    "- **`model.train()`**: Sets the model to training mode, enabling features like dropout and batch normalization.\n",
    "- **Forward pass**: The input images are passed through the model, and the output predictions are generated.\n",
    "- **Loss calculation**: The loss between the model's predictions and the true labels is computed using the specified criterion (e.g., cross-entropy loss).\n",
    "- **Backward pass**: The gradients of the loss with respect to the model parameters are computed (via `loss.backward()`), and the optimizer updates the model weights.\n",
    "- **Accuracy calculation**: The number of correctly predicted labels is compared against the total number of labels to calculate the training accuracy.\n",
    "- **W&B logging**: The loss and accuracy for the current epoch are logged to **Weights & Biases** (W&B), allowing us to track the model's performance.\n",
    "\n",
    "### Validation Loop\n",
    "\n",
    "The **`validate()`** function handles the evaluation of the model on the validation set:\n",
    "\n",
    "- **`model.eval()`**: Sets the model to evaluation mode, disabling certain features like dropout.\n",
    "- **No gradient calculation**: The validation loop is wrapped in `torch.no_grad()` to prevent gradient calculations and save memory during the evaluation.\n",
    "- **Forward pass**: Similar to the training loop, the input images are passed through the model, but no backpropagation or optimization is performed.\n",
    "- **Accuracy and loss calculation**: The loss and accuracy are computed for the validation set.\n",
    "- **W&B logging**: The validation loss and accuracy are logged to W&B to monitor the model's performance on unseen data.\n",
    "\n",
    "Both loops track key metrics, including loss and accuracy, and use **Weights & Biases** to log these metrics for real-time monitoring of the training process.\n"
   ]
  },
  {
   "cell_type": "code",
   "execution_count": 69,
   "metadata": {},
   "outputs": [],
   "source": [
    "# Training loop\n",
    "def train(model, loader, criterion, optimizer, device):\n",
    "    model.train()\n",
    "    running_loss = 0.0\n",
    "    correct = 0\n",
    "    total = 0\n",
    "\n",
    "    for inputs, labels in loader:\n",
    "        inputs, labels = inputs.to(device), labels.to(device)\n",
    "\n",
    "        # Forward pass\n",
    "        outputs = model(inputs)\n",
    "        loss = criterion(outputs, labels)\n",
    "\n",
    "        # Backward and optimize\n",
    "        optimizer.zero_grad()\n",
    "        loss.backward()\n",
    "        optimizer.step()\n",
    "\n",
    "        running_loss += loss.item()\n",
    "        _, predicted = outputs.max(1)\n",
    "        total += labels.size(0)\n",
    "        correct += predicted.eq(labels).sum().item()\n",
    "\n",
    "    epoch_loss = running_loss / len(loader)\n",
    "    epoch_accuracy = 100. * correct / total\n",
    "\n",
    "    # Log the metrics to W&B\n",
    "    wandb.log({\"Train Loss\": epoch_loss, \"Train Accuracy\": epoch_accuracy})\n",
    "    print(f\"Train Loss: {epoch_loss}, Train Accuracy: {epoch_accuracy}%\")\n",
    "\n",
    "# Validation loop\n",
    "def validate(model, loader, criterion, device):\n",
    "    model.eval()\n",
    "    running_loss = 0.0\n",
    "    correct = 0\n",
    "    total = 0\n",
    "\n",
    "    with torch.no_grad():\n",
    "        for inputs, labels in loader:\n",
    "            inputs, labels = inputs.to(device), labels.to(device)\n",
    "\n",
    "            # Forward pass\n",
    "            outputs = model(inputs)\n",
    "            loss = criterion(outputs, labels)\n",
    "\n",
    "            running_loss += loss.item()\n",
    "            _, predicted = outputs.max(1)\n",
    "            total += labels.size(0)\n",
    "            correct += predicted.eq(labels).sum().item()\n",
    "\n",
    "    epoch_loss = running_loss / len(loader)\n",
    "    epoch_accuracy = 100. * correct / total\n",
    "    # Log the metrics to W&B\n",
    "    wandb.log({\"Validation Loss\": epoch_loss, \"Validation Accuracy\": epoch_accuracy})\n",
    "\n",
    "    print(f\"Validation Loss: {epoch_loss}, Validation Accuracy: {epoch_accuracy}%\")\n",
    "    return epoch_loss"
   ]
  },
  {
   "cell_type": "markdown",
   "metadata": {},
   "source": [
    "## 8. Training the Model\n",
    "\n",
    "In this block, we train the model for a set number of epochs using the previously defined **`train()`** and **`validate()`** functions. The model will learn from the training data and be evaluated on the validation set at the end of each epoch.\n",
    "\n",
    "- **`num_epochs = 10`**: Specifies that the model will be trained for 10 epochs. This can be adjusted based on the dataset size, model complexity, and available resources.\n",
    "- **Training Loop**: \n",
    "    - For each epoch, the **`train()`** function is called to train the model on the training set.\n",
    "    - After each epoch, the **`validate()`** function evaluates the model on the validation set to track its performance.\n",
    "    - For each epoch, the loss and accuracy for both the training and validation sets are printed to monitor progress.\n",
    "\n",
    "### Weights & Biases (W&B) Logging\n",
    "- **`wandb.watch(model)`**: This function allows **W&B** to track the model's gradients and parameters throughout training, enabling more detailed insights and visualizations into the model’s training process.\n",
    "\n",
    "By logging each epoch's results and using **W&B** to track the model’s progress, we ensure a well-documented and transparent training process. After training, the model can be saved and used for future inference or further fine-tuning.\n"
   ]
  },
  {
   "cell_type": "code",
   "execution_count": 75,
   "metadata": {},
   "outputs": [
    {
     "name": "stdout",
     "output_type": "stream",
     "text": [
      "Epoch 1/10\n",
      "Train Loss: 0.022557142210037757, Train Accuracy: 99.64285714285714%\n",
      "Validation Loss: 0.04229787899953408, Validation Accuracy: 98.03921568627452%\n",
      "Best model saved at epoch 1\n",
      "Epoch 2/10\n",
      "Train Loss: 0.004254254557761467, Train Accuracy: 100.0%\n",
      "Validation Loss: 0.05988917254853732, Validation Accuracy: 98.03921568627452%\n",
      "Epoch 3/10\n",
      "Train Loss: 0.017102729334308404, Train Accuracy: 99.64285714285714%\n",
      "Validation Loss: 0.01893039782589767, Validation Accuracy: 98.03921568627452%\n",
      "Best model saved at epoch 3\n",
      "Epoch 4/10\n",
      "Train Loss: 0.01920962932571355, Train Accuracy: 98.92857142857143%\n",
      "Validation Loss: 0.12258983345236629, Validation Accuracy: 96.07843137254902%\n",
      "Epoch 5/10\n",
      "Train Loss: 0.005894931788336382, Train Accuracy: 100.0%\n",
      "Validation Loss: 0.030669627492898144, Validation Accuracy: 98.03921568627452%\n",
      "Epoch 6/10\n",
      "Train Loss: 0.006722570846452274, Train Accuracy: 100.0%\n",
      "Validation Loss: 0.030115149398625363, Validation Accuracy: 96.07843137254902%\n",
      "Epoch 7/10\n",
      "Train Loss: 0.0021981775708910492, Train Accuracy: 100.0%\n",
      "Validation Loss: 0.028288125220569782, Validation Accuracy: 96.07843137254902%\n",
      "Epoch 8/10\n",
      "Train Loss: 0.0027474033065825803, Train Accuracy: 100.0%\n",
      "Validation Loss: 0.016851731877977727, Validation Accuracy: 98.03921568627452%\n",
      "Best model saved at epoch 8\n",
      "Epoch 9/10\n",
      "Train Loss: 0.003644454410176776, Train Accuracy: 100.0%\n",
      "Validation Loss: 0.010598143548122607, Validation Accuracy: 100.0%\n",
      "Best model saved at epoch 9\n",
      "Epoch 10/10\n",
      "Train Loss: 0.005020738506573252, Train Accuracy: 99.64285714285714%\n",
      "Validation Loss: 0.03537119968677871, Validation Accuracy: 98.03921568627452%\n"
     ]
    }
   ],
   "source": [
    "# Train the model\n",
    "best_val_loss = float(('inf'))\n",
    "num_epochs = 10\n",
    "\n",
    "for epoch in range(num_epochs):\n",
    "    print(f'Epoch {epoch+1}/{num_epochs}')\n",
    "    train(model, train_loader, criterion, optimizer, device)\n",
    "    val_loss = validate(model, val_loader, criterion, device)\n",
    "    \n",
    "    if val_loss < best_val_loss:\n",
    "        best_val_loss = val_loss\n",
    "        # Save the model to W&B\n",
    "        wandb.watch(model)\n",
    "        # If you want to save the model to disk \n",
    "        torch.save(model.state_dict(), 'resnet18_transfer_learning.pth')\n",
    "        print(f'Best model saved at epoch {epoch+1}')"
   ]
  },
  {
   "cell_type": "code",
   "execution_count": 60,
   "metadata": {},
   "outputs": [],
   "source": [
    "# If you want to save the model to disk \n",
    "torch.save(model.state_dict(), 'resnet18_transfer_learning.pth')"
   ]
  },
  {
   "cell_type": "code",
   "execution_count": 61,
   "metadata": {},
   "outputs": [
    {
     "name": "stderr",
     "output_type": "stream",
     "text": [
      "<>:20: SyntaxWarning: invalid escape sequence '\\p'\n",
      "<>:20: SyntaxWarning: invalid escape sequence '\\p'\n",
      "C:\\Users\\Jamiv\\AppData\\Local\\Temp\\ipykernel_20516\\413683719.py:20: SyntaxWarning: invalid escape sequence '\\p'\n",
      "  image_path = 'test_data\\pine\\IMG-20241007-WA0017_jpg.rf.a2d4123d01a1dac6d5981c347ec459c9.jpg'  # Adjust the path as needed\n"
     ]
    },
    {
     "name": "stdout",
     "output_type": "stream",
     "text": [
      "Predicted class: pine\n"
     ]
    }
   ],
   "source": [
    "# Function to perform inference on a single image\n",
    "def infer(model, image_path, transform, device):\n",
    "    # Load the image and convert it to RGB (3 channels)\n",
    "    image = Image.open(image_path).convert('RGB')\n",
    "    image = transform(image).unsqueeze(0).to(device)  # Add batch dimension\n",
    "\n",
    "    # Put the model in evaluation mode\n",
    "    model.eval()\n",
    "\n",
    "    with torch.no_grad():\n",
    "        output = model(image)\n",
    "        _, predicted = output.max(1)\n",
    "    \n",
    "    return predicted.item()\n",
    "\n",
    "# Class names are based on the order printed from train_data.classes\n",
    "class_names = ['birch', 'maple', 'pine', 'rowan', 'spruce']\n",
    "\n",
    "# Path to the test image\n",
    "image_path = 'test_data\\pine\\IMG-20241007-WA0017_jpg.rf.a2d4123d01a1dac6d5981c347ec459c9.jpg'  # Adjust the path as needed\n",
    "\n",
    "# Run inference\n",
    "predicted_class = infer(model, image_path, transform, device)\n",
    "print(f'Predicted class: {class_names[predicted_class]}')"
   ]
  },
  {
   "cell_type": "markdown",
   "metadata": {},
   "source": [
    "## 9. Evaluating the Model with a Confusion Matrix\n",
    "\n",
    "In this block, we generate predictions for the entire validation set and display a **confusion matrix** to better understand how well the model is performing on each class (Rock, Paper, Scissors). The confusion matrix allows us to see how often the model correctly classifies each class and where it may be making errors.\n",
    "\n",
    "### Getting Predictions\n",
    "\n",
    "The **`get_all_predictions()`** function:\n",
    "- **`model.eval()`**: Sets the model to evaluation mode to disable training-specific features such as dropout.\n",
    "- **Predictions**: For each batch in the validation loader, we pass the inputs through the model and record the predicted class labels.\n",
    "    - The predictions are stored in **`all_preds`**, and the true labels in **`all_labels`**.\n",
    "    - Both predictions and labels are moved back to the CPU using `.cpu()` and then converted to numpy arrays for further processing.\n",
    "- **Concatenation**: After looping through the entire validation set, we concatenate the predictions and labels into single arrays for easy comparison.\n",
    "\n",
    "### Confusion Matrix\n",
    "- **`confusion_matrix()`**: This function from **scikit-learn** computes the confusion matrix by comparing the true labels with the predicted labels.\n",
    "- **`ConfusionMatrixDisplay()`**: This utility is used to visualize the confusion matrix.\n",
    "    - The confusion matrix shows how many times the model correctly or incorrectly predicted each class.\n",
    "    - **Class names**: The class names for the Rock, Paper, Scissors dataset are provided as `['paper', 'rock', 'scissors']`.\n",
    "    - The matrix is plotted using **`matplotlib`** with a blue color map to highlight the results.\n",
    "\n",
    "### Interpreting the Confusion Matrix\n",
    "- The confusion matrix helps us understand how the model is performing on each class.\n",
    "    - Diagonal entries represent correct predictions (true positives).\n",
    "    - Off-diagonal entries represent misclassifications (false positives/negatives).\n",
    "- By analyzing the confusion matrix, we can see if the model is struggling with any particular class or if there is a class imbalance in predictions.\n",
    "\n",
    "Finally, the confusion matrix is displayed as a plot using **matplotlib** to provide a visual overview of the model's classification performance.\n"
   ]
  },
  {
   "cell_type": "code",
   "execution_count": 62,
   "metadata": {},
   "outputs": [
    {
     "name": "stdout",
     "output_type": "stream",
     "text": [
      "Number of predictions: 51\n",
      "Number of true labels: 51\n"
     ]
    },
    {
     "data": {
      "image/png": "[encoded data removed]",
      "text/plain": [
       "<Figure size 640x480 with 2 Axes>"
      ]
     },
     "metadata": {},
     "output_type": "display_data"
    }
   ],
   "source": [
    "# Function to get predictions for the entire validation set\n",
    "def get_all_predictions(model, loader, device):\n",
    "    model.eval()\n",
    "    all_preds = []\n",
    "    all_labels = []\n",
    "\n",
    "    with torch.no_grad():\n",
    "        for inputs, labels in loader:\n",
    "            inputs, labels = inputs.to(device), labels.to(device)\n",
    "            outputs = model(inputs)\n",
    "            _, predicted = outputs.max(1)\n",
    "            all_preds.append(predicted.cpu().numpy())\n",
    "            all_labels.append(labels.cpu().numpy())\n",
    "\n",
    "    # Convert list of arrays to single numpy arrays\n",
    "    all_preds = np.concatenate(all_preds)\n",
    "    all_labels = np.concatenate(all_labels)\n",
    "    return all_preds, all_labels\n",
    "\n",
    "# Get predictions and true labels from validation data\n",
    "preds, labels = get_all_predictions(model, val_loader, device)\n",
    "# Print the shape of preds and labels\n",
    "print(f\"Number of predictions: {len(preds)}\")\n",
    "print(f\"Number of true labels: {len(labels)}\")\n",
    "# Compute the confusion matrix\n",
    "conf_matrix = confusion_matrix(labels, preds)\n",
    "\n",
    "# Display the confusion matrix\n",
    "class_names = ['birch', 'maple', 'pine', 'rowan', 'spruce']\n",
    "\n",
    "disp = ConfusionMatrixDisplay(confusion_matrix=conf_matrix, display_labels=class_names)\n",
    "disp.plot(cmap=plt.cm.Blues)\n",
    "plt.show()\n"
   ]
  },
  {
   "cell_type": "markdown",
   "metadata": {},
   "source": [
    "# Evaluating the model with test dataset"
   ]
  },
  {
   "cell_type": "code",
   "execution_count": 63,
   "metadata": {},
   "outputs": [
    {
     "name": "stdout",
     "output_type": "stream",
     "text": [
      "Accuracy: 0.9722\n",
      "Precision: 0.9745\n",
      "Recall: 0.9722\n",
      "F1 Score: 0.9682\n"
     ]
    },
    {
     "data": {
      "image/png": "[encoded data removed]",
      "text/plain": [
       "<Figure size 640x480 with 2 Axes>"
      ]
     },
     "metadata": {},
     "output_type": "display_data"
    }
   ],
   "source": [
    "\n",
    "# Load the test dataset\n",
    "test_data = ImageFolder(root='test_data', transform=transform)  # Adjust the path as needed\n",
    "test_loader = DataLoader(test_data, batch_size=16, shuffle=False)\n",
    "\n",
    "\n",
    "# Load the best model\n",
    "model.eval()  # Set to evaluation mode\n",
    "\n",
    "# Initialize lists to hold the true labels and predictions\n",
    "true_labels = []\n",
    "predictions = []\n",
    "\n",
    "# Iterate over the test dataset\n",
    "with torch.no_grad():\n",
    "    for inputs, labels in test_loader:\n",
    "        inputs = inputs.to(device)  # Move inputs to the appropriate device\n",
    "        outputs = model(inputs)\n",
    "        _, predicted = outputs.max(1)  # Get the predicted class\n",
    "\n",
    "        # Store true labels and predicted labels\n",
    "        true_labels.extend(labels.cpu().numpy())  # Move labels to CPU and convert to numpy\n",
    "        predictions.extend(predicted.cpu().numpy())  # Move predictions to CPU and convert to numpy\n",
    "\n",
    "# Calculate metrics\n",
    "accuracy = accuracy_score(true_labels, predictions)\n",
    "precision = precision_score(true_labels, predictions, average='weighted')  # Use 'macro' or 'micro' if preferred\n",
    "recall = recall_score(true_labels, predictions, average='weighted')  # Use 'macro' or 'micro' if preferred\n",
    "f1 = f1_score(true_labels, predictions, average='weighted')  # Use 'macro' or 'micro' if preferred\n",
    "\n",
    "# Print results\n",
    "print(f'Accuracy: {accuracy:.4f}')\n",
    "print(f'Precision: {precision:.4f}')\n",
    "print(f'Recall: {recall:.4f}')\n",
    "print(f'F1 Score: {f1:.4f}')\n",
    "\n",
    "\n",
    "# Calculate the confusion matrix\n",
    "cm = confusion_matrix(true_labels, predictions)\n",
    "\n",
    "# Class names (use the same order as in ImageFolder)\n",
    "class_names = test_data.classes\n",
    "\n",
    "# Plot the confusion matrix\n",
    "sns.heatmap(cm, annot=True, fmt='d', cmap='Blues', xticklabels=class_names, yticklabels=class_names)\n",
    "plt.ylabel('True label')\n",
    "plt.xlabel('Predicted label')\n",
    "plt.title('Confusion Matrix for Test Data')\n",
    "plt.show()"
   ]
  },
  {
   "cell_type": "markdown",
   "metadata": {},
   "source": [
    "## 10. Inference on a Single Image and Logging Results to W&B\n",
    "\n",
    "In this block, we define a function to perform inference on a single image using the pre-trained model and log the results to **Weights & Biases (W&B)**. This is useful for evaluating the model's performance on individual images and visualizing the results.\n",
    "\n",
    "### Function: `infer_and_log()`\n",
    "\n",
    "- **Loading and Preprocessing**: \n",
    "    - **`Image.open(image_path).convert('RGB')`**: Opens the image from the given path and converts it to an RGB format (3-channel).\n",
    "    - **`transform(image)`**: Applies the transformation (e.g., resizing, tensor conversion) to the image, similar to how we transformed the training and validation images.\n",
    "    - **`.unsqueeze(0)`**: Adds a batch dimension to the image tensor, as the model expects input in batches.\n",
    "    - The image tensor is then moved to the specified device (GPU or CPU) using **`.to(device)`**.\n",
    "\n",
    "- **Inference**:\n",
    "    - **`model.eval()`**: The model is set to evaluation mode to disable any training-specific operations.\n",
    "    - **`torch.no_grad()`**: Disables gradient calculations to save memory and speed up inference.\n",
    "    - The model processes the image, and the predicted class is obtained by finding the index of the highest output score using **`.max(1)`**.\n",
    "    - The predicted class is then mapped to its corresponding label using the **`class_names`** list.\n",
    "\n",
    "- **Logging to Weights & Biases**:\n",
    "    - **`wandb.log()`**: Logs the original input image along with the predicted class to **W&B** for easy tracking and visualization.\n",
    "    - **`wandb.Image()`**: This function is used to log the input image along with a caption showing the predicted class.\n",
    "\n",
    "### Example Usage\n",
    "\n",
    "- **`class_names`**: The list of class names for the Rock, Paper, Scissors dataset (`['paper', 'rock', 'scissors']`).\n",
    "- **Image Path**: The path to a test image (e.g., `'rps-test-set/rock/testrock01-00.png'`).\n",
    "- **Inference and Logging**: The `infer_and_log()` function is called, which performs inference on the test image and logs the results to **W&B**.\n",
    "\n",
    "The predicted class is then printed to the console to verify the result.\n",
    "\n",
    "By using this function, you can easily evaluate the model's predictions on individual images and track those predictions through **Weights & Biases** for better analysis and visualization.\n"
   ]
  },
  {
   "cell_type": "code",
   "execution_count": 64,
   "metadata": {},
   "outputs": [
    {
     "name": "stderr",
     "output_type": "stream",
     "text": [
      "<>:28: SyntaxWarning: invalid escape sequence '\\p'\n",
      "<>:28: SyntaxWarning: invalid escape sequence '\\p'\n",
      "C:\\Users\\Jamiv\\AppData\\Local\\Temp\\ipykernel_20516\\2885855318.py:28: SyntaxWarning: invalid escape sequence '\\p'\n",
      "  image_path = 'test_data\\pine\\IMG-20241007-WA0017_jpg.rf.a2d4123d01a1dac6d5981c347ec459c9.jpg'\n"
     ]
    },
    {
     "name": "stdout",
     "output_type": "stream",
     "text": [
      "Predicted class: pine\n"
     ]
    }
   ],
   "source": [
    "# Function to perform inference on a single image and log results to W&B\n",
    "def infer_and_log(model, image_path, transform, device, class_names):\n",
    "    # Load and preprocess the image\n",
    "    image = Image.open(image_path).convert('RGB')\n",
    "    image_tensor = transform(image).unsqueeze(0).to(device)  # Add batch dimension\n",
    "\n",
    "    # Put the model in evaluation mode\n",
    "    model.eval()\n",
    "\n",
    "    # Run inference\n",
    "    with torch.no_grad():\n",
    "        outputs = model(image_tensor)\n",
    "        _, predicted = outputs.max(1)\n",
    "        predicted_class = class_names[predicted.item()]\n",
    "    \n",
    "    # Log the input image and the prediction to W&B\n",
    "    wandb.log({\n",
    "        \"Image\": wandb.Image(image, caption=f\"Predicted: {predicted_class}\"),\n",
    "        \"Prediction\": predicted_class\n",
    "    })\n",
    "\n",
    "    return predicted_class\n",
    "\n",
    "# Example usage\n",
    "class_names = ['birch', 'maple', 'pine', 'rowan', 'spruce']\n",
    "\n",
    "# Path to the test image\n",
    "image_path = 'test_data\\pine\\IMG-20241007-WA0017_jpg.rf.a2d4123d01a1dac6d5981c347ec459c9.jpg'\n",
    "\n",
    "# Run inference and log results to W&B\n",
    "predicted_class = infer_and_log(model, image_path, transform, device, class_names)\n",
    "print(f'Predicted class: {predicted_class}')\n"
   ]
  },
  {
   "cell_type": "markdown",
   "metadata": {},
   "source": [
    "# Gradio Interface"
   ]
  },
  {
   "cell_type": "code",
   "execution_count": 36,
   "metadata": {},
   "outputs": [
    {
     "name": "stdout",
     "output_type": "stream",
     "text": [
      "Running on local URL:  http://127.0.0.1:7861\n",
      "Running on public URL: https://1e69e864a4d5cf61dd.gradio.live\n",
      "\n",
      "This share link expires in 72 hours. For free permanent hosting and GPU upgrades, run `gradio deploy` from Terminal to deploy to Spaces (https://huggingface.co/spaces)\n"
     ]
    },
    {
     "data": {
      "text/html": [
       "<div><iframe src=\"https://1e69e864a4d5cf61dd.gradio.live\" width=\"100%\" height=\"500\" allow=\"autoplay; camera; microphone; clipboard-read; clipboard-write;\" frameborder=\"0\" allowfullscreen></iframe></div>"
      ],
      "text/plain": [
       "<IPython.core.display.HTML object>"
      ]
     },
     "metadata": {},
     "output_type": "display_data"
    },
    {
     "data": {
      "text/plain": []
     },
     "execution_count": 36,
     "metadata": {},
     "output_type": "execute_result"
    }
   ],
   "source": [
    "# Function to perform inference on a single image\n",
    "def infer_gradio(image):\n",
    "    # Apply the same transform as used in training\n",
    "    image = image.convert('RGB')  # Ensure it's in 3-channel format\n",
    "    image = transform(image).unsqueeze(0).to(device)  # Add batch dimension\n",
    "    \n",
    "    # Put the model in evaluation mode\n",
    "    model.eval()\n",
    "    \n",
    "    with torch.no_grad():\n",
    "        output = model(image)\n",
    "        _, predicted = output.max(1)\n",
    "    \n",
    "    return class_names[predicted.item()]  # Return the predicted class name\n",
    "\n",
    "# Class names (modify according to your tree dataset classes)\n",
    "class_names = ['birch', 'maple', 'pine', 'rowan', 'spruce']  # Example classes\n",
    "\n",
    "# Gradio Interface\n",
    "interface = gr.Interface(\n",
    "    fn=infer_gradio,  # The function for inference\n",
    "    inputs=gr.Image(type=\"pil\"),  # Input: an image file\n",
    "    outputs=\"text\",  # Output: the predicted class name\n",
    "    title=\"Tree Species Detection\",  # Title of the app\n",
    "    description=\"Upload an image of a tree, and the model will predict its species.\"\n",
    ")\n",
    "\n",
    "# Launch the interface\n",
    "interface.launch(share=True)\n"
   ]
  },
  {
   "cell_type": "code",
   "execution_count": null,
   "metadata": {},
   "outputs": [],
   "source": []
  }
 ],
 "metadata": {
  "kernelspec": {
   "display_name": "SolutionsPR",
   "language": "python",
   "name": "python3"
  },
  "language_info": {
   "codemirror_mode": {
    "name": "ipython",
    "version": 3
   },
   "file_extension": ".py",
   "mimetype": "text/x-python",
   "name": "python",
   "nbconvert_exporter": "python",
   "pygments_lexer": "ipython3",
   "version": "3.12.4"
  }
 },
 "nbformat": 4,
 "nbformat_minor": 2
}
